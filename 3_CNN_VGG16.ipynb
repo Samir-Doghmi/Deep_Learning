{
  "cells": [
    {
      "cell_type": "markdown",
      "metadata": {
        "id": "view-in-github",
        "colab_type": "text"
      },
      "source": [
        "<a href=\"https://colab.research.google.com/github/Samir-Doghmi/Deep_Learning/blob/main/3_CNN_VGG16.ipynb\" target=\"_parent\"><img src=\"https://colab.research.google.com/assets/colab-badge.svg\" alt=\"Open In Colab\"/></a>"
      ]
    },
    {
      "cell_type": "code",
      "execution_count": null,
      "metadata": {
        "id": "vr0g5V1D7tQx"
      },
      "outputs": [],
      "source": [
        "import tensorflow as tf\n",
        "from tensorflow import keras\n",
        "from keras import layers\n",
        "from keras import Sequential\n",
        "from keras import preprocessing\n",
        "from keras.layers import Normalization\n",
        "from matplotlib import pyplot as plt\n",
        "import zipfile\n",
        "from shutil import copyfile\n",
        "from time import time\n",
        "import numpy as np\n",
        "import random as python_random\n",
        "import os\n",
        "from pathlib import Path\n",
        "import PIL\n",
        "from PIL import Image\n",
        "import statistics\n",
        "from sklearn.metrics import classification_report, confusion_matrix, accuracy_score"
      ]
    },
    {
      "cell_type": "code",
      "execution_count": null,
      "metadata": {
        "id": "2Ze-ggEK7t2w"
      },
      "outputs": [],
      "source": [
        "# seed initialization to get same results\n",
        "np.random.seed(0)\n",
        "python_random.seed(0)\n",
        "tf.random.set_seed(0)"
      ]
    },
    {
      "cell_type": "markdown",
      "source": [
        "# Upload"
      ],
      "metadata": {
        "id": "gkX3jY7JaUba"
      }
    },
    {
      "cell_type": "code",
      "execution_count": null,
      "metadata": {
        "colab": {
          "base_uri": "https://localhost:8080/"
        },
        "id": "qA-DGWv27t-W",
        "outputId": "1ee6e4a3-5fda-437a-c4ec-e19e32847c73"
      },
      "outputs": [
        {
          "output_type": "stream",
          "name": "stdout",
          "text": [
            "Drive already mounted at /content/gdrive; to attempt to forcibly remount, call drive.mount(\"/content/gdrive\", force_remount=True).\n"
          ]
        }
      ],
      "source": [
        "# Link Google Drive account\n",
        "from google.colab import drive\n",
        "drive.mount('/content/gdrive')"
      ]
    },
    {
      "cell_type": "code",
      "execution_count": null,
      "metadata": {
        "colab": {
          "base_uri": "https://localhost:8080/"
        },
        "id": "sbA-Ju1o7uEI",
        "outputId": "d568d576-fe46-4dbd-abf5-a3a0786bf01a"
      },
      "outputs": [
        {
          "output_type": "stream",
          "name": "stdout",
          "text": [
            "File transfer completed in 6.963 seconds\n"
          ]
        }
      ],
      "source": [
        "# Import file in the virtual machine\n",
        "t0 = time()\n",
        "# Transfer zip dataset to the current virtual machine\n",
        "copyfile('/content/gdrive/MyDrive/Project_DeepLearning/flower_photos_divided.zip', 'flower_photos_divided.zip') # fonte e dove copiarlo\n",
        "# Extract files\n",
        "zip = zipfile.ZipFile('flower_photos_divided.zip') #scompatta cartella zippata\n",
        "zip.extractall() #invochiamo zip\n",
        "zip.close() # necessario per accellerare le operazioni\n",
        "print(\"File transfer completed in %0.3f seconds\" % (time() - t0))\n",
        "\n",
        "base_path = Path('flower_photos_divided/')"
      ]
    },
    {
      "cell_type": "markdown",
      "source": [
        "# Data\n",
        "\n"
      ],
      "metadata": {
        "id": "EdI2ZY8FaYOL"
      }
    },
    {
      "cell_type": "markdown",
      "source": [
        "## Train and Validation"
      ],
      "metadata": {
        "id": "NlAxy0IOatEJ"
      }
    },
    {
      "cell_type": "code",
      "source": [
        "# train dataset\n",
        "train_dataset = keras.preprocessing.image_dataset_from_directory(\"flower_photos_divided/train\", #assegniamo a variabile train dataset\n",
        "                                                            image_size=(224,224), #dimesione standard   # ridimensionate alla stessa dimensione (stessa risoluzione). Per poter sfruttare il batch processing, le immagini vengono impilate in un unico tensore poiche alcuni livelli neurali funzionano in base ad una specifica cardinalità\n",
        "                                                            batch_size=128,   # 128 immagini di input alla volta. più immagini, più l'apprendimento è stabile\n",
        "                                                            label_mode='categorical',\n",
        "                                                            #subset='training',\n",
        "                                                            #validation_split = 0.2,\n",
        "                                                            shuffle=True,# Data shuffling (randomization of the instances order) is fundamental to ensure that each minibatch is representative of the whole set of classes\n",
        "                                                            seed=1)\n",
        "# 800 file (80%) verrano utilizzati per l'addestramento, mentre 200 per il validation"
      ],
      "metadata": {
        "colab": {
          "base_uri": "https://localhost:8080/"
        },
        "id": "V_0HawAaIP5u",
        "outputId": "fcac0b87-2c56-4f06-83eb-612bfa475eba"
      },
      "execution_count": null,
      "outputs": [
        {
          "output_type": "stream",
          "name": "stdout",
          "text": [
            "Found 2935 files belonging to 5 classes.\n"
          ]
        }
      ]
    },
    {
      "cell_type": "code",
      "source": [
        "# validation dataset\n",
        "val_dataset = keras.preprocessing.image_dataset_from_directory(\"flower_photos_divided/test\", #assegniamo a variabile train dataset\n",
        "                                                            image_size=(224,224), #dimesione standard   # ridimensionate alla stessa dimensione (stessa risoluzione). Per poter sfruttare il batch processing, le immagini vengono impilate in un unico tensore poiche alcuni livelli neurali funzionano in base ad una specifica cardinalità\n",
        "                                                            batch_size=128,   # 128 immagini di input alla volta. più immagini, più l'apprendimento è stabile\n",
        "                                                            label_mode='categorical',\n",
        "                                                            #subset='validation',\n",
        "                                                            #validation_split = 0.2,\n",
        "                                                            shuffle=False,\n",
        "                                                            seed=1)\n",
        "# 800 file (80%) verrano utilizzati per l'addestramento, mentre 200 per il validation"
      ],
      "metadata": {
        "colab": {
          "base_uri": "https://localhost:8080/"
        },
        "id": "-3iJmRlpIWh8",
        "outputId": "670eb7a0-f3da-4a81-8131-a093b0978e5e"
      },
      "execution_count": null,
      "outputs": [
        {
          "output_type": "stream",
          "name": "stdout",
          "text": [
            "Found 735 files belonging to 5 classes.\n"
          ]
        }
      ]
    },
    {
      "cell_type": "markdown",
      "metadata": {
        "id": "5QkapQncLooj"
      },
      "source": [
        "## Data Augmentation"
      ]
    },
    {
      "cell_type": "code",
      "execution_count": null,
      "metadata": {
        "id": "SeuSmC77LoFB"
      },
      "outputs": [],
      "source": [
        "data_augmentation = keras.Sequential(\n",
        "    [\n",
        "     layers.RandomFlip(\"horizontal_and_vertical\"),\n",
        "     layers.RandomRotation(0.4),\n",
        "     layers.RandomBrightness(factor= 0.4), # allowing the generator to randomly darken the image of 0.2 or 20%\n",
        "     layers.RandomZoom(0.2),\n",
        "     layers.RandomCrop(180,260),\n",
        "     layers.Resizing(224,224),\n",
        "     layers.Normalization()\n",
        "    ]\n",
        ")"
      ]
    },
    {
      "cell_type": "markdown",
      "source": [
        "# VGG16"
      ],
      "metadata": {
        "id": "PQUNUXfiNOma"
      }
    },
    {
      "cell_type": "markdown",
      "metadata": {
        "id": "vNi2sF7gHTnL"
      },
      "source": [
        "VGG-16 is a neural network architecture designed by Visual Geometry Group.\n",
        "with 13 convolutional layers and 3 fully connected layers for classification and detection tasks. Also  3x3 filter and a stride 1 that are in the same padding and maxpool layer of 2x2 filter of stride 2."
      ]
    },
    {
      "cell_type": "code",
      "execution_count": null,
      "metadata": {
        "id": "fKqmHIB83BOf"
      },
      "outputs": [],
      "source": [
        "#using  VGG16\n",
        "from keras.applications.vgg16 import VGG16\n",
        "from keras.preprocessing import image\n",
        "from keras.applications.vgg16 import preprocess_input\n",
        "from keras.models import Model"
      ]
    },
    {
      "cell_type": "code",
      "source": [
        "num_classes = 5"
      ],
      "metadata": {
        "id": "ZJBvgatX7nHz"
      },
      "execution_count": null,
      "outputs": []
    },
    {
      "cell_type": "code",
      "source": [
        "# we set an early stopping\n",
        "callback = keras.callbacks.EarlyStopping(monitor='val_loss', patience=7)\n",
        "\n",
        "#we save only the best model\n",
        "#checkpoint_filepath = 'gdrive/MyDrive/Project_DeepLearning/3_CNN_VGG16'\n",
        "checkpoint_filepath = '/content/gdrive/MyDrive/Project_DeepLearning/3_CNN_VGG16 (1)'\n",
        "mcp_save = tf.keras.callbacks.ModelCheckpoint(filepath=checkpoint_filepath, save_best_only=True, monitor='val_loss', mode='min')"
      ],
      "metadata": {
        "id": "mmpg-RxFGxRc"
      },
      "execution_count": null,
      "outputs": []
    },
    {
      "cell_type": "code",
      "execution_count": null,
      "metadata": {
        "id": "8D-aoMIb36rc"
      },
      "outputs": [],
      "source": [
        "VGG_model = tf.keras.applications.vgg16.VGG16(\n",
        "    include_top=True,\n",
        "    weights='imagenet',\n",
        "    classifier_activation='softmax',\n",
        "    input_tensor=tf.keras.layers.Input(shape=(224,224,3))\n",
        "    #classes=num_classes\n",
        ")"
      ]
    },
    {
      "cell_type": "code",
      "source": [
        "VGG_model.trainable = False"
      ],
      "metadata": {
        "id": "AG1qXChSGxPU"
      },
      "execution_count": null,
      "outputs": []
    },
    {
      "cell_type": "code",
      "source": [
        "# Explicit input layer\n",
        "inputs = keras.Input((224,224,3))\n",
        "#x = inputs\n",
        "x = data_augmentation(inputs)\n",
        "\n",
        "x = VGG_model(x)\n",
        "\n",
        "# New intermediate fully-connected layer + ReLU\n",
        "x = keras.layers.Dense(512, activation='relu')(x)\n",
        "x = keras.layers.Dense(64, activation=\"relu\", kernel_regularizer=tf.keras.regularizers.l2(0.001))(x)\n",
        "# New (final) fully-connected layer + SoftMax activation\n",
        "#x = keras.layers.GlobalMaxPooling2D()(x)\n",
        "outputs = keras.layers.Dense(num_classes, activation=\"softmax\")(x)\n",
        "\n",
        "# Specialized model\n",
        "VGG_model = keras.Model(inputs, outputs)"
      ],
      "metadata": {
        "id": "ufoRNHFDGxJP"
      },
      "execution_count": null,
      "outputs": []
    },
    {
      "cell_type": "code",
      "source": [
        "print(VGG_model.summary())"
      ],
      "metadata": {
        "colab": {
          "base_uri": "https://localhost:8080/"
        },
        "id": "hgjJngILGxHE",
        "outputId": "47829c5d-55ff-45b6-d7b2-284193f9c730"
      },
      "execution_count": null,
      "outputs": [
        {
          "output_type": "stream",
          "name": "stdout",
          "text": [
            "Model: \"model_6\"\n",
            "_________________________________________________________________\n",
            " Layer (type)                Output Shape              Param #   \n",
            "=================================================================\n",
            " input_12 (InputLayer)       [(None, 224, 224, 3)]     0         \n",
            "                                                                 \n",
            " sequential (Sequential)     (None, 224, 224, 3)       7         \n",
            "                                                                 \n",
            " vgg16 (Functional)          (None, 1000)              138357544 \n",
            "                                                                 \n",
            " dense_18 (Dense)            (None, 512)               512512    \n",
            "                                                                 \n",
            " dense_19 (Dense)            (None, 64)                32832     \n",
            "                                                                 \n",
            " dense_20 (Dense)            (None, 5)                 325       \n",
            "                                                                 \n",
            "=================================================================\n",
            "Total params: 138,903,220\n",
            "Trainable params: 545,669\n",
            "Non-trainable params: 138,357,551\n",
            "_________________________________________________________________\n",
            "None\n"
          ]
        }
      ]
    },
    {
      "cell_type": "code",
      "source": [
        "# Compile the model for training\n",
        "VGG_model.compile(loss=keras.losses.categorical_crossentropy,\n",
        "            optimizer=keras.optimizers.RMSprop(learning_rate=0.001),\n",
        "            metrics=['accuracy'])"
      ],
      "metadata": {
        "id": "pFY1T8htGwxs"
      },
      "execution_count": null,
      "outputs": []
    },
    {
      "cell_type": "code",
      "source": [
        "# Model training\n",
        "history = VGG_model.fit(train_dataset,\n",
        "          epochs=80,\n",
        "          validation_data=val_dataset,\n",
        "          callbacks=[callback, mcp_save]);"
      ],
      "metadata": {
        "colab": {
          "base_uri": "https://localhost:8080/"
        },
        "id": "G4oFo4N3Nvzn",
        "outputId": "7588d7d8-7656-48ef-df84-5cce754600da"
      },
      "execution_count": null,
      "outputs": [
        {
          "output_type": "stream",
          "name": "stdout",
          "text": [
            "Epoch 1/80\n",
            "23/23 [==============================] - 20s 715ms/step - loss: 1.6506 - accuracy: 0.3847 - val_loss: 1.5346 - val_accuracy: 0.4259\n",
            "Epoch 2/80\n",
            "23/23 [==============================] - 17s 671ms/step - loss: 1.4927 - accuracy: 0.4433 - val_loss: 1.3586 - val_accuracy: 0.5211\n",
            "Epoch 3/80\n",
            "23/23 [==============================] - 19s 772ms/step - loss: 1.3654 - accuracy: 0.5015 - val_loss: 1.2511 - val_accuracy: 0.5973\n",
            "Epoch 4/80\n",
            "23/23 [==============================] - ETA: 0s - loss: 1.2756 - accuracy: 0.5557"
          ]
        },
        {
          "output_type": "stream",
          "name": "stderr",
          "text": [
            "WARNING:absl:Found untraced functions such as _jit_compiled_convolution_op, _jit_compiled_convolution_op, _jit_compiled_convolution_op, _jit_compiled_convolution_op, _jit_compiled_convolution_op while saving (showing 5 of 13). These functions will not be directly callable after loading.\n"
          ]
        },
        {
          "output_type": "stream",
          "name": "stdout",
          "text": [
            "\b\b\b\b\b\b\b\b\b\b\b\b\b\b\b\b\b\b\b\b\b\b\b\b\b\b\b\b\b\b\b\b\b\b\b\b\b\b\b\b\b\b\b\b\b\b\b\b\b\b\b\b\b\b\b\b\b\b\b\b\b\b\b\b\b\b\b\b\b\b\b\b\b\b\b\b\b\b\b\b\b\b\r23/23 [==============================] - 27s 1s/step - loss: 1.2756 - accuracy: 0.5557 - val_loss: 1.1602 - val_accuracy: 0.5973\n",
            "Epoch 5/80\n",
            "23/23 [==============================] - ETA: 0s - loss: 1.2072 - accuracy: 0.5659"
          ]
        },
        {
          "output_type": "stream",
          "name": "stderr",
          "text": [
            "WARNING:absl:Found untraced functions such as _jit_compiled_convolution_op, _jit_compiled_convolution_op, _jit_compiled_convolution_op, _jit_compiled_convolution_op, _jit_compiled_convolution_op while saving (showing 5 of 13). These functions will not be directly callable after loading.\n"
          ]
        },
        {
          "output_type": "stream",
          "name": "stdout",
          "text": [
            "\b\b\b\b\b\b\b\b\b\b\b\b\b\b\b\b\b\b\b\b\b\b\b\b\b\b\b\b\b\b\b\b\b\b\b\b\b\b\b\b\b\b\b\b\b\b\b\b\b\b\b\b\b\b\b\b\b\b\b\b\b\b\b\b\b\b\b\b\b\b\b\b\b\b\b\b\b\b\b\b\b\b\r23/23 [==============================] - 28s 1s/step - loss: 1.2072 - accuracy: 0.5659 - val_loss: 1.1143 - val_accuracy: 0.6068\n",
            "Epoch 6/80\n",
            "23/23 [==============================] - ETA: 0s - loss: 1.1628 - accuracy: 0.5884"
          ]
        },
        {
          "output_type": "stream",
          "name": "stderr",
          "text": [
            "WARNING:absl:Found untraced functions such as _jit_compiled_convolution_op, _jit_compiled_convolution_op, _jit_compiled_convolution_op, _jit_compiled_convolution_op, _jit_compiled_convolution_op while saving (showing 5 of 13). These functions will not be directly callable after loading.\n"
          ]
        },
        {
          "output_type": "stream",
          "name": "stdout",
          "text": [
            "\b\b\b\b\b\b\b\b\b\b\b\b\b\b\b\b\b\b\b\b\b\b\b\b\b\b\b\b\b\b\b\b\b\b\b\b\b\b\b\b\b\b\b\b\b\b\b\b\b\b\b\b\b\b\b\b\b\b\b\b\b\b\b\b\b\b\b\b\b\b\b\b\b\b\b\b\b\b\b\b\b\b\r23/23 [==============================] - 28s 1s/step - loss: 1.1628 - accuracy: 0.5884 - val_loss: 1.0843 - val_accuracy: 0.6109\n",
            "Epoch 7/80\n",
            "23/23 [==============================] - ETA: 0s - loss: 1.1157 - accuracy: 0.6058"
          ]
        },
        {
          "output_type": "stream",
          "name": "stderr",
          "text": [
            "WARNING:absl:Found untraced functions such as _jit_compiled_convolution_op, _jit_compiled_convolution_op, _jit_compiled_convolution_op, _jit_compiled_convolution_op, _jit_compiled_convolution_op while saving (showing 5 of 13). These functions will not be directly callable after loading.\n"
          ]
        },
        {
          "output_type": "stream",
          "name": "stdout",
          "text": [
            "\b\b\b\b\b\b\b\b\b\b\b\b\b\b\b\b\b\b\b\b\b\b\b\b\b\b\b\b\b\b\b\b\b\b\b\b\b\b\b\b\b\b\b\b\b\b\b\b\b\b\b\b\b\b\b\b\b\b\b\b\b\b\b\b\b\b\b\b\b\b\b\b\b\b\b\b\b\b\b\b\b\b\r23/23 [==============================] - 27s 1s/step - loss: 1.1157 - accuracy: 0.6058 - val_loss: 1.0700 - val_accuracy: 0.6150\n",
            "Epoch 8/80\n",
            "23/23 [==============================] - ETA: 0s - loss: 1.1086 - accuracy: 0.6037"
          ]
        },
        {
          "output_type": "stream",
          "name": "stderr",
          "text": [
            "WARNING:absl:Found untraced functions such as _jit_compiled_convolution_op, _jit_compiled_convolution_op, _jit_compiled_convolution_op, _jit_compiled_convolution_op, _jit_compiled_convolution_op while saving (showing 5 of 13). These functions will not be directly callable after loading.\n"
          ]
        },
        {
          "output_type": "stream",
          "name": "stdout",
          "text": [
            "\b\b\b\b\b\b\b\b\b\b\b\b\b\b\b\b\b\b\b\b\b\b\b\b\b\b\b\b\b\b\b\b\b\b\b\b\b\b\b\b\b\b\b\b\b\b\b\b\b\b\b\b\b\b\b\b\b\b\b\b\b\b\b\b\b\b\b\b\b\b\b\b\b\b\b\b\b\b\b\b\b\b\r23/23 [==============================] - 28s 1s/step - loss: 1.1086 - accuracy: 0.6037 - val_loss: 1.0557 - val_accuracy: 0.6109\n",
            "Epoch 9/80\n",
            "23/23 [==============================] - ETA: 0s - loss: 1.0812 - accuracy: 0.6034"
          ]
        },
        {
          "output_type": "stream",
          "name": "stderr",
          "text": [
            "WARNING:absl:Found untraced functions such as _jit_compiled_convolution_op, _jit_compiled_convolution_op, _jit_compiled_convolution_op, _jit_compiled_convolution_op, _jit_compiled_convolution_op while saving (showing 5 of 13). These functions will not be directly callable after loading.\n"
          ]
        },
        {
          "output_type": "stream",
          "name": "stdout",
          "text": [
            "\b\b\b\b\b\b\b\b\b\b\b\b\b\b\b\b\b\b\b\b\b\b\b\b\b\b\b\b\b\b\b\b\b\b\b\b\b\b\b\b\b\b\b\b\b\b\b\b\b\b\b\b\b\b\b\b\b\b\b\b\b\b\b\b\b\b\b\b\b\b\b\b\b\b\b\b\b\b\b\b\b\b\r23/23 [==============================] - 28s 1s/step - loss: 1.0812 - accuracy: 0.6034 - val_loss: 1.0413 - val_accuracy: 0.6231\n",
            "Epoch 10/80\n",
            "23/23 [==============================] - ETA: 0s - loss: 1.0695 - accuracy: 0.6136"
          ]
        },
        {
          "output_type": "stream",
          "name": "stderr",
          "text": [
            "WARNING:absl:Found untraced functions such as _jit_compiled_convolution_op, _jit_compiled_convolution_op, _jit_compiled_convolution_op, _jit_compiled_convolution_op, _jit_compiled_convolution_op while saving (showing 5 of 13). These functions will not be directly callable after loading.\n"
          ]
        },
        {
          "output_type": "stream",
          "name": "stdout",
          "text": [
            "\b\b\b\b\b\b\b\b\b\b\b\b\b\b\b\b\b\b\b\b\b\b\b\b\b\b\b\b\b\b\b\b\b\b\b\b\b\b\b\b\b\b\b\b\b\b\b\b\b\b\b\b\b\b\b\b\b\b\b\b\b\b\b\b\b\b\b\b\b\b\b\b\b\b\b\b\b\b\b\b\b\b\r23/23 [==============================] - 30s 1s/step - loss: 1.0695 - accuracy: 0.6136 - val_loss: 1.0349 - val_accuracy: 0.6150\n",
            "Epoch 11/80\n",
            "23/23 [==============================] - ETA: 0s - loss: 1.0460 - accuracy: 0.6330"
          ]
        },
        {
          "output_type": "stream",
          "name": "stderr",
          "text": [
            "WARNING:absl:Found untraced functions such as _jit_compiled_convolution_op, _jit_compiled_convolution_op, _jit_compiled_convolution_op, _jit_compiled_convolution_op, _jit_compiled_convolution_op while saving (showing 5 of 13). These functions will not be directly callable after loading.\n"
          ]
        },
        {
          "output_type": "stream",
          "name": "stdout",
          "text": [
            "\b\b\b\b\b\b\b\b\b\b\b\b\b\b\b\b\b\b\b\b\b\b\b\b\b\b\b\b\b\b\b\b\b\b\b\b\b\b\b\b\b\b\b\b\b\b\b\b\b\b\b\b\b\b\b\b\b\b\b\b\b\b\b\b\b\b\b\b\b\b\b\b\b\b\b\b\b\b\b\b\b\b\r23/23 [==============================] - 28s 1s/step - loss: 1.0460 - accuracy: 0.6330 - val_loss: 1.0257 - val_accuracy: 0.6177\n",
            "Epoch 12/80\n",
            "23/23 [==============================] - ETA: 0s - loss: 1.0513 - accuracy: 0.6147"
          ]
        },
        {
          "output_type": "stream",
          "name": "stderr",
          "text": [
            "WARNING:absl:Found untraced functions such as _jit_compiled_convolution_op, _jit_compiled_convolution_op, _jit_compiled_convolution_op, _jit_compiled_convolution_op, _jit_compiled_convolution_op while saving (showing 5 of 13). These functions will not be directly callable after loading.\n"
          ]
        },
        {
          "output_type": "stream",
          "name": "stdout",
          "text": [
            "\b\b\b\b\b\b\b\b\b\b\b\b\b\b\b\b\b\b\b\b\b\b\b\b\b\b\b\b\b\b\b\b\b\b\b\b\b\b\b\b\b\b\b\b\b\b\b\b\b\b\b\b\b\b\b\b\b\b\b\b\b\b\b\b\b\b\b\b\b\b\b\b\b\b\b\b\b\b\b\b\b\b\r23/23 [==============================] - 27s 1s/step - loss: 1.0513 - accuracy: 0.6147 - val_loss: 1.0176 - val_accuracy: 0.6136\n",
            "Epoch 13/80\n",
            "23/23 [==============================] - ETA: 0s - loss: 1.0532 - accuracy: 0.6198"
          ]
        },
        {
          "output_type": "stream",
          "name": "stderr",
          "text": [
            "WARNING:absl:Found untraced functions such as _jit_compiled_convolution_op, _jit_compiled_convolution_op, _jit_compiled_convolution_op, _jit_compiled_convolution_op, _jit_compiled_convolution_op while saving (showing 5 of 13). These functions will not be directly callable after loading.\n"
          ]
        },
        {
          "output_type": "stream",
          "name": "stdout",
          "text": [
            "\b\b\b\b\b\b\b\b\b\b\b\b\b\b\b\b\b\b\b\b\b\b\b\b\b\b\b\b\b\b\b\b\b\b\b\b\b\b\b\b\b\b\b\b\b\b\b\b\b\b\b\b\b\b\b\b\b\b\b\b\b\b\b\b\b\b\b\b\b\b\b\b\b\b\b\b\b\b\b\b\b\b\r23/23 [==============================] - 28s 1s/step - loss: 1.0532 - accuracy: 0.6198 - val_loss: 1.0130 - val_accuracy: 0.6299\n",
            "Epoch 14/80\n",
            "23/23 [==============================] - ETA: 0s - loss: 1.0478 - accuracy: 0.6164"
          ]
        },
        {
          "output_type": "stream",
          "name": "stderr",
          "text": [
            "WARNING:absl:Found untraced functions such as _jit_compiled_convolution_op, _jit_compiled_convolution_op, _jit_compiled_convolution_op, _jit_compiled_convolution_op, _jit_compiled_convolution_op while saving (showing 5 of 13). These functions will not be directly callable after loading.\n"
          ]
        },
        {
          "output_type": "stream",
          "name": "stdout",
          "text": [
            "\b\b\b\b\b\b\b\b\b\b\b\b\b\b\b\b\b\b\b\b\b\b\b\b\b\b\b\b\b\b\b\b\b\b\b\b\b\b\b\b\b\b\b\b\b\b\b\b\b\b\b\b\b\b\b\b\b\b\b\b\b\b\b\b\b\b\b\b\b\b\b\b\b\b\b\b\b\b\b\b\b\b\r23/23 [==============================] - 27s 1s/step - loss: 1.0478 - accuracy: 0.6164 - val_loss: 1.0111 - val_accuracy: 0.6109\n",
            "Epoch 15/80\n",
            "23/23 [==============================] - ETA: 0s - loss: 1.0372 - accuracy: 0.6218"
          ]
        },
        {
          "output_type": "stream",
          "name": "stderr",
          "text": [
            "WARNING:absl:Found untraced functions such as _jit_compiled_convolution_op, _jit_compiled_convolution_op, _jit_compiled_convolution_op, _jit_compiled_convolution_op, _jit_compiled_convolution_op while saving (showing 5 of 13). These functions will not be directly callable after loading.\n"
          ]
        },
        {
          "output_type": "stream",
          "name": "stdout",
          "text": [
            "\b\b\b\b\b\b\b\b\b\b\b\b\b\b\b\b\b\b\b\b\b\b\b\b\b\b\b\b\b\b\b\b\b\b\b\b\b\b\b\b\b\b\b\b\b\b\b\b\b\b\b\b\b\b\b\b\b\b\b\b\b\b\b\b\b\b\b\b\b\b\b\b\b\b\b\b\b\b\b\b\b\b\r23/23 [==============================] - 27s 1s/step - loss: 1.0372 - accuracy: 0.6218 - val_loss: 0.9987 - val_accuracy: 0.6340\n",
            "Epoch 16/80\n",
            "23/23 [==============================] - 19s 704ms/step - loss: 1.0100 - accuracy: 0.6276 - val_loss: 1.0059 - val_accuracy: 0.6109\n",
            "Epoch 17/80\n",
            "23/23 [==============================] - ETA: 0s - loss: 1.0014 - accuracy: 0.6348"
          ]
        },
        {
          "output_type": "stream",
          "name": "stderr",
          "text": [
            "WARNING:absl:Found untraced functions such as _jit_compiled_convolution_op, _jit_compiled_convolution_op, _jit_compiled_convolution_op, _jit_compiled_convolution_op, _jit_compiled_convolution_op while saving (showing 5 of 13). These functions will not be directly callable after loading.\n"
          ]
        },
        {
          "output_type": "stream",
          "name": "stdout",
          "text": [
            "\b\b\b\b\b\b\b\b\b\b\b\b\b\b\b\b\b\b\b\b\b\b\b\b\b\b\b\b\b\b\b\b\b\b\b\b\b\b\b\b\b\b\b\b\b\b\b\b\b\b\b\b\b\b\b\b\b\b\b\b\b\b\b\b\b\b\b\b\b\b\b\b\b\b\b\b\b\b\b\b\b\b\r23/23 [==============================] - 26s 1s/step - loss: 1.0014 - accuracy: 0.6348 - val_loss: 0.9970 - val_accuracy: 0.6286\n",
            "Epoch 18/80\n",
            "23/23 [==============================] - ETA: 0s - loss: 0.9898 - accuracy: 0.6419"
          ]
        },
        {
          "output_type": "stream",
          "name": "stderr",
          "text": [
            "WARNING:absl:Found untraced functions such as _jit_compiled_convolution_op, _jit_compiled_convolution_op, _jit_compiled_convolution_op, _jit_compiled_convolution_op, _jit_compiled_convolution_op while saving (showing 5 of 13). These functions will not be directly callable after loading.\n"
          ]
        },
        {
          "output_type": "stream",
          "name": "stdout",
          "text": [
            "\b\b\b\b\b\b\b\b\b\b\b\b\b\b\b\b\b\b\b\b\b\b\b\b\b\b\b\b\b\b\b\b\b\b\b\b\b\b\b\b\b\b\b\b\b\b\b\b\b\b\b\b\b\b\b\b\b\b\b\b\b\b\b\b\b\b\b\b\b\b\b\b\b\b\b\b\b\b\b\b\b\b\r23/23 [==============================] - 28s 1s/step - loss: 0.9898 - accuracy: 0.6419 - val_loss: 0.9892 - val_accuracy: 0.6381\n",
            "Epoch 19/80\n",
            "23/23 [==============================] - ETA: 0s - loss: 0.9824 - accuracy: 0.6440"
          ]
        },
        {
          "output_type": "stream",
          "name": "stderr",
          "text": [
            "WARNING:absl:Found untraced functions such as _jit_compiled_convolution_op, _jit_compiled_convolution_op, _jit_compiled_convolution_op, _jit_compiled_convolution_op, _jit_compiled_convolution_op while saving (showing 5 of 13). These functions will not be directly callable after loading.\n"
          ]
        },
        {
          "output_type": "stream",
          "name": "stdout",
          "text": [
            "\b\b\b\b\b\b\b\b\b\b\b\b\b\b\b\b\b\b\b\b\b\b\b\b\b\b\b\b\b\b\b\b\b\b\b\b\b\b\b\b\b\b\b\b\b\b\b\b\b\b\b\b\b\b\b\b\b\b\b\b\b\b\b\b\b\b\b\b\b\b\b\b\b\b\b\b\b\b\b\b\b\b\r23/23 [==============================] - 27s 1s/step - loss: 0.9824 - accuracy: 0.6440 - val_loss: 0.9877 - val_accuracy: 0.6245\n",
            "Epoch 20/80\n",
            "23/23 [==============================] - 17s 687ms/step - loss: 0.9886 - accuracy: 0.6388 - val_loss: 0.9991 - val_accuracy: 0.6463\n",
            "Epoch 21/80\n",
            "23/23 [==============================] - 17s 698ms/step - loss: 0.9994 - accuracy: 0.6395 - val_loss: 0.9900 - val_accuracy: 0.6354\n",
            "Epoch 22/80\n",
            "23/23 [==============================] - ETA: 0s - loss: 0.9752 - accuracy: 0.6549"
          ]
        },
        {
          "output_type": "stream",
          "name": "stderr",
          "text": [
            "WARNING:absl:Found untraced functions such as _jit_compiled_convolution_op, _jit_compiled_convolution_op, _jit_compiled_convolution_op, _jit_compiled_convolution_op, _jit_compiled_convolution_op while saving (showing 5 of 13). These functions will not be directly callable after loading.\n"
          ]
        },
        {
          "output_type": "stream",
          "name": "stdout",
          "text": [
            "\b\b\b\b\b\b\b\b\b\b\b\b\b\b\b\b\b\b\b\b\b\b\b\b\b\b\b\b\b\b\b\b\b\b\b\b\b\b\b\b\b\b\b\b\b\b\b\b\b\b\b\b\b\b\b\b\b\b\b\b\b\b\b\b\b\b\b\b\b\b\b\b\b\b\b\b\b\b\b\b\b\b\r23/23 [==============================] - 30s 1s/step - loss: 0.9752 - accuracy: 0.6549 - val_loss: 0.9845 - val_accuracy: 0.6422\n",
            "Epoch 23/80\n",
            "23/23 [==============================] - ETA: 0s - loss: 0.9814 - accuracy: 0.6422"
          ]
        },
        {
          "output_type": "stream",
          "name": "stderr",
          "text": [
            "WARNING:absl:Found untraced functions such as _jit_compiled_convolution_op, _jit_compiled_convolution_op, _jit_compiled_convolution_op, _jit_compiled_convolution_op, _jit_compiled_convolution_op while saving (showing 5 of 13). These functions will not be directly callable after loading.\n"
          ]
        },
        {
          "output_type": "stream",
          "name": "stdout",
          "text": [
            "\b\b\b\b\b\b\b\b\b\b\b\b\b\b\b\b\b\b\b\b\b\b\b\b\b\b\b\b\b\b\b\b\b\b\b\b\b\b\b\b\b\b\b\b\b\b\b\b\b\b\b\b\b\b\b\b\b\b\b\b\b\b\b\b\b\b\b\b\b\b\b\b\b\b\b\b\b\b\b\b\b\b\r23/23 [==============================] - 32s 1s/step - loss: 0.9814 - accuracy: 0.6422 - val_loss: 0.9750 - val_accuracy: 0.6367\n",
            "Epoch 24/80\n",
            "23/23 [==============================] - ETA: 0s - loss: 0.9743 - accuracy: 0.6504"
          ]
        },
        {
          "output_type": "stream",
          "name": "stderr",
          "text": [
            "WARNING:absl:Found untraced functions such as _jit_compiled_convolution_op, _jit_compiled_convolution_op, _jit_compiled_convolution_op, _jit_compiled_convolution_op, _jit_compiled_convolution_op while saving (showing 5 of 13). These functions will not be directly callable after loading.\n"
          ]
        },
        {
          "output_type": "stream",
          "name": "stdout",
          "text": [
            "\b\b\b\b\b\b\b\b\b\b\b\b\b\b\b\b\b\b\b\b\b\b\b\b\b\b\b\b\b\b\b\b\b\b\b\b\b\b\b\b\b\b\b\b\b\b\b\b\b\b\b\b\b\b\b\b\b\b\b\b\b\b\b\b\b\b\b\b\b\b\b\b\b\b\b\b\b\b\b\b\b\b\r23/23 [==============================] - 29s 1s/step - loss: 0.9743 - accuracy: 0.6504 - val_loss: 0.9662 - val_accuracy: 0.6395\n",
            "Epoch 25/80\n",
            "23/23 [==============================] - 20s 694ms/step - loss: 0.9652 - accuracy: 0.6453 - val_loss: 0.9672 - val_accuracy: 0.6422\n",
            "Epoch 26/80\n",
            "23/23 [==============================] - 17s 695ms/step - loss: 0.9738 - accuracy: 0.6477 - val_loss: 0.9702 - val_accuracy: 0.6354\n",
            "Epoch 27/80\n",
            "23/23 [==============================] - ETA: 0s - loss: 0.9692 - accuracy: 0.6416"
          ]
        },
        {
          "output_type": "stream",
          "name": "stderr",
          "text": [
            "WARNING:absl:Found untraced functions such as _jit_compiled_convolution_op, _jit_compiled_convolution_op, _jit_compiled_convolution_op, _jit_compiled_convolution_op, _jit_compiled_convolution_op while saving (showing 5 of 13). These functions will not be directly callable after loading.\n"
          ]
        },
        {
          "output_type": "stream",
          "name": "stdout",
          "text": [
            "\b\b\b\b\b\b\b\b\b\b\b\b\b\b\b\b\b\b\b\b\b\b\b\b\b\b\b\b\b\b\b\b\b\b\b\b\b\b\b\b\b\b\b\b\b\b\b\b\b\b\b\b\b\b\b\b\b\b\b\b\b\b\b\b\b\b\b\b\b\b\b\b\b\b\b\b\b\b\b\b\b\b\r23/23 [==============================] - 27s 1s/step - loss: 0.9692 - accuracy: 0.6416 - val_loss: 0.9655 - val_accuracy: 0.6476\n",
            "Epoch 28/80\n",
            "23/23 [==============================] - 18s 725ms/step - loss: 0.9547 - accuracy: 0.6412 - val_loss: 0.9765 - val_accuracy: 0.6259\n",
            "Epoch 29/80\n",
            "23/23 [==============================] - ETA: 0s - loss: 0.9573 - accuracy: 0.6610"
          ]
        },
        {
          "output_type": "stream",
          "name": "stderr",
          "text": [
            "WARNING:absl:Found untraced functions such as _jit_compiled_convolution_op, _jit_compiled_convolution_op, _jit_compiled_convolution_op, _jit_compiled_convolution_op, _jit_compiled_convolution_op while saving (showing 5 of 13). These functions will not be directly callable after loading.\n"
          ]
        },
        {
          "output_type": "stream",
          "name": "stdout",
          "text": [
            "\b\b\b\b\b\b\b\b\b\b\b\b\b\b\b\b\b\b\b\b\b\b\b\b\b\b\b\b\b\b\b\b\b\b\b\b\b\b\b\b\b\b\b\b\b\b\b\b\b\b\b\b\b\b\b\b\b\b\b\b\b\b\b\b\b\b\b\b\b\b\b\b\b\b\b\b\b\b\b\b\b\b\r23/23 [==============================] - 28s 1s/step - loss: 0.9573 - accuracy: 0.6610 - val_loss: 0.9547 - val_accuracy: 0.6463\n",
            "Epoch 30/80\n",
            "23/23 [==============================] - 19s 719ms/step - loss: 0.9637 - accuracy: 0.6504 - val_loss: 0.9586 - val_accuracy: 0.6531\n",
            "Epoch 31/80\n",
            "23/23 [==============================] - ETA: 0s - loss: 0.9445 - accuracy: 0.6566"
          ]
        },
        {
          "output_type": "stream",
          "name": "stderr",
          "text": [
            "WARNING:absl:Found untraced functions such as _jit_compiled_convolution_op, _jit_compiled_convolution_op, _jit_compiled_convolution_op, _jit_compiled_convolution_op, _jit_compiled_convolution_op while saving (showing 5 of 13). These functions will not be directly callable after loading.\n"
          ]
        },
        {
          "output_type": "stream",
          "name": "stdout",
          "text": [
            "\b\b\b\b\b\b\b\b\b\b\b\b\b\b\b\b\b\b\b\b\b\b\b\b\b\b\b\b\b\b\b\b\b\b\b\b\b\b\b\b\b\b\b\b\b\b\b\b\b\b\b\b\b\b\b\b\b\b\b\b\b\b\b\b\b\b\b\b\b\b\b\b\b\b\b\b\b\b\b\b\b\b\r23/23 [==============================] - 27s 1s/step - loss: 0.9445 - accuracy: 0.6566 - val_loss: 0.9479 - val_accuracy: 0.6626\n",
            "Epoch 32/80\n",
            "23/23 [==============================] - ETA: 0s - loss: 0.9390 - accuracy: 0.6535"
          ]
        },
        {
          "output_type": "stream",
          "name": "stderr",
          "text": [
            "WARNING:absl:Found untraced functions such as _jit_compiled_convolution_op, _jit_compiled_convolution_op, _jit_compiled_convolution_op, _jit_compiled_convolution_op, _jit_compiled_convolution_op while saving (showing 5 of 13). These functions will not be directly callable after loading.\n"
          ]
        },
        {
          "output_type": "stream",
          "name": "stdout",
          "text": [
            "\b\b\b\b\b\b\b\b\b\b\b\b\b\b\b\b\b\b\b\b\b\b\b\b\b\b\b\b\b\b\b\b\b\b\b\b\b\b\b\b\b\b\b\b\b\b\b\b\b\b\b\b\b\b\b\b\b\b\b\b\b\b\b\b\b\b\b\b\b\b\b\b\b\b\b\b\b\b\b\b\b\b\r23/23 [==============================] - 26s 1s/step - loss: 0.9390 - accuracy: 0.6535 - val_loss: 0.9464 - val_accuracy: 0.6721\n",
            "Epoch 33/80\n",
            "23/23 [==============================] - ETA: 0s - loss: 0.9510 - accuracy: 0.6532"
          ]
        },
        {
          "output_type": "stream",
          "name": "stderr",
          "text": [
            "WARNING:absl:Found untraced functions such as _jit_compiled_convolution_op, _jit_compiled_convolution_op, _jit_compiled_convolution_op, _jit_compiled_convolution_op, _jit_compiled_convolution_op while saving (showing 5 of 13). These functions will not be directly callable after loading.\n"
          ]
        },
        {
          "output_type": "stream",
          "name": "stdout",
          "text": [
            "\b\b\b\b\b\b\b\b\b\b\b\b\b\b\b\b\b\b\b\b\b\b\b\b\b\b\b\b\b\b\b\b\b\b\b\b\b\b\b\b\b\b\b\b\b\b\b\b\b\b\b\b\b\b\b\b\b\b\b\b\b\b\b\b\b\b\b\b\b\b\b\b\b\b\b\b\b\b\b\b\b\b\r23/23 [==============================] - 31s 1s/step - loss: 0.9510 - accuracy: 0.6532 - val_loss: 0.9416 - val_accuracy: 0.6707\n",
            "Epoch 34/80\n",
            "23/23 [==============================] - 18s 699ms/step - loss: 0.9613 - accuracy: 0.6491 - val_loss: 0.9625 - val_accuracy: 0.6599\n",
            "Epoch 35/80\n",
            "23/23 [==============================] - 20s 708ms/step - loss: 0.9443 - accuracy: 0.6583 - val_loss: 0.9434 - val_accuracy: 0.6571\n",
            "Epoch 36/80\n",
            "23/23 [==============================] - ETA: 0s - loss: 0.9209 - accuracy: 0.6698"
          ]
        },
        {
          "output_type": "stream",
          "name": "stderr",
          "text": [
            "WARNING:absl:Found untraced functions such as _jit_compiled_convolution_op, _jit_compiled_convolution_op, _jit_compiled_convolution_op, _jit_compiled_convolution_op, _jit_compiled_convolution_op while saving (showing 5 of 13). These functions will not be directly callable after loading.\n"
          ]
        },
        {
          "output_type": "stream",
          "name": "stdout",
          "text": [
            "\b\b\b\b\b\b\b\b\b\b\b\b\b\b\b\b\b\b\b\b\b\b\b\b\b\b\b\b\b\b\b\b\b\b\b\b\b\b\b\b\b\b\b\b\b\b\b\b\b\b\b\b\b\b\b\b\b\b\b\b\b\b\b\b\b\b\b\b\b\b\b\b\b\b\b\b\b\b\b\b\b\b\r23/23 [==============================] - 27s 1s/step - loss: 0.9209 - accuracy: 0.6698 - val_loss: 0.9380 - val_accuracy: 0.6789\n",
            "Epoch 37/80\n",
            "23/23 [==============================] - ETA: 0s - loss: 0.9338 - accuracy: 0.6457"
          ]
        },
        {
          "output_type": "stream",
          "name": "stderr",
          "text": [
            "WARNING:absl:Found untraced functions such as _jit_compiled_convolution_op, _jit_compiled_convolution_op, _jit_compiled_convolution_op, _jit_compiled_convolution_op, _jit_compiled_convolution_op while saving (showing 5 of 13). These functions will not be directly callable after loading.\n"
          ]
        },
        {
          "output_type": "stream",
          "name": "stdout",
          "text": [
            "\b\b\b\b\b\b\b\b\b\b\b\b\b\b\b\b\b\b\b\b\b\b\b\b\b\b\b\b\b\b\b\b\b\b\b\b\b\b\b\b\b\b\b\b\b\b\b\b\b\b\b\b\b\b\b\b\b\b\b\b\b\b\b\b\b\b\b\b\b\b\b\b\b\b\b\b\b\b\b\b\b\b\r23/23 [==============================] - 27s 1s/step - loss: 0.9338 - accuracy: 0.6457 - val_loss: 0.9372 - val_accuracy: 0.6762\n",
            "Epoch 38/80\n",
            "23/23 [==============================] - 18s 712ms/step - loss: 0.9250 - accuracy: 0.6654 - val_loss: 0.9615 - val_accuracy: 0.6558\n",
            "Epoch 39/80\n",
            "23/23 [==============================] - ETA: 0s - loss: 0.9107 - accuracy: 0.6627"
          ]
        },
        {
          "output_type": "stream",
          "name": "stderr",
          "text": [
            "WARNING:absl:Found untraced functions such as _jit_compiled_convolution_op, _jit_compiled_convolution_op, _jit_compiled_convolution_op, _jit_compiled_convolution_op, _jit_compiled_convolution_op while saving (showing 5 of 13). These functions will not be directly callable after loading.\n"
          ]
        },
        {
          "output_type": "stream",
          "name": "stdout",
          "text": [
            "\b\b\b\b\b\b\b\b\b\b\b\b\b\b\b\b\b\b\b\b\b\b\b\b\b\b\b\b\b\b\b\b\b\b\b\b\b\b\b\b\b\b\b\b\b\b\b\b\b\b\b\b\b\b\b\b\b\b\b\b\b\b\b\b\b\b\b\b\b\b\b\b\b\b\b\b\b\b\b\b\b\b\r23/23 [==============================] - 27s 1s/step - loss: 0.9107 - accuracy: 0.6627 - val_loss: 0.9364 - val_accuracy: 0.6571\n",
            "Epoch 40/80\n",
            "23/23 [==============================] - 18s 715ms/step - loss: 0.9210 - accuracy: 0.6712 - val_loss: 0.9413 - val_accuracy: 0.6503\n",
            "Epoch 41/80\n",
            "23/23 [==============================] - 19s 725ms/step - loss: 0.9266 - accuracy: 0.6528 - val_loss: 0.9514 - val_accuracy: 0.6367\n",
            "Epoch 42/80\n",
            "23/23 [==============================] - 18s 717ms/step - loss: 0.9103 - accuracy: 0.6784 - val_loss: 0.9477 - val_accuracy: 0.6667\n",
            "Epoch 43/80\n",
            "23/23 [==============================] - 18s 722ms/step - loss: 0.9122 - accuracy: 0.6651 - val_loss: 0.9368 - val_accuracy: 0.6707\n",
            "Epoch 44/80\n",
            "23/23 [==============================] - 18s 724ms/step - loss: 0.8905 - accuracy: 0.6767 - val_loss: 0.9588 - val_accuracy: 0.6667\n",
            "Epoch 45/80\n",
            "23/23 [==============================] - 18s 724ms/step - loss: 0.9041 - accuracy: 0.6675 - val_loss: 0.9450 - val_accuracy: 0.6612\n",
            "Epoch 46/80\n",
            "23/23 [==============================] - 19s 723ms/step - loss: 0.8885 - accuracy: 0.6790 - val_loss: 0.9368 - val_accuracy: 0.6585\n"
          ]
        }
      ]
    },
    {
      "cell_type": "markdown",
      "source": [
        "nota:   \n",
        "1) importato solo il VGG, non sono stati agggiunti layer custom, veloce fino al 50%, poi lentissimo a salire fino al 55%\n",
        "2) aggiunto un layer custom 512, parte gia dal 50%, arriva fino al 64% con due cicli e si ferma\n",
        "3) aggiunto un layer da 64 dopo il 512: parte dal 54%, arriva al 64 in poco, poi sale cmq ma lentamente"
      ],
      "metadata": {
        "id": "_ZqfE75QS3bK"
      }
    },
    {
      "cell_type": "code",
      "source": [
        "# To load the best model\n",
        "VGG_model.load_weights(checkpoint_filepath)"
      ],
      "metadata": {
        "colab": {
          "base_uri": "https://localhost:8080/"
        },
        "outputId": "6398fd6b-679b-4bd5-f89e-8b5a8d319613",
        "id": "iEzq0gemgTHX"
      },
      "execution_count": null,
      "outputs": [
        {
          "output_type": "execute_result",
          "data": {
            "text/plain": [
              "<tensorflow.python.checkpoint.checkpoint.CheckpointLoadStatus at 0x7f1bd1e745b0>"
            ]
          },
          "metadata": {},
          "execution_count": 42
        }
      ]
    },
    {
      "cell_type": "markdown",
      "source": [
        "## Validation of our Best Model"
      ],
      "metadata": {
        "id": "LQZ44L-PgTHZ"
      }
    },
    {
      "cell_type": "code",
      "source": [
        "# Visualization of the learning curves\n",
        "acc = (history.history['accuracy'])\n",
        "val_acc = (history.history['val_accuracy'])\n",
        "\n",
        "loss = (history.history['loss'])\n",
        "val_loss = (history.history['val_loss'])\n",
        "\n",
        "num_epochs = len(history.epoch)\n",
        "epochs_range = range(1, num_epochs + 1)\n",
        "\n",
        "plt.figure(figsize=(8, 8))\n",
        "plt.subplot(1, 2, 1)\n",
        "plt.plot(epochs_range, loss, label='Training Loss')\n",
        "plt.plot(epochs_range, val_loss, label='Validation Loss')\n",
        "plt.legend(loc='upper right')\n",
        "plt.title('Training and Validation Loss')\n",
        "\n",
        "plt.subplot(1, 2, 2)\n",
        "plt.plot(epochs_range, acc, label='Training Accuracy')\n",
        "plt.plot(epochs_range, val_acc, label='Validation Accuracy')\n",
        "plt.legend(loc='lower right')\n",
        "plt.title('Training and Validation Accuracy')\n",
        "\n",
        "plt.show()"
      ],
      "metadata": {
        "colab": {
          "base_uri": "https://localhost:8080/",
          "height": 699
        },
        "outputId": "dea27185-37fd-48df-b29a-def30337b3df",
        "id": "sOeabfXXgTHa"
      },
      "execution_count": null,
      "outputs": [
        {
          "output_type": "display_data",
          "data": {
            "text/plain": [
              "<Figure size 800x800 with 2 Axes>"
            ],
            "image/png": "[encoded data removed]"
          },
          "metadata": {}
        }
      ]
    },
    {
      "cell_type": "code",
      "source": [
        "# Evaluation Best Model\n",
        "score = VGG_model.evaluate(val_dataset)\n",
        "print('Test loss:', score[0])\n",
        "print('Test accuracy:', score[1])"
      ],
      "metadata": {
        "colab": {
          "base_uri": "https://localhost:8080/"
        },
        "outputId": "955183b5-6b23-43f4-f60f-7532f1ff044f",
        "id": "WhsN_wsxgTHa"
      },
      "execution_count": null,
      "outputs": [
        {
          "output_type": "stream",
          "name": "stdout",
          "text": [
            "6/6 [==============================] - 3s 467ms/step - loss: 0.9364 - accuracy: 0.6571\n",
            "Test loss: 0.9363740682601929\n",
            "Test accuracy: 0.6571428775787354\n"
          ]
        }
      ]
    },
    {
      "cell_type": "markdown",
      "source": [
        "### Validation using prediction method"
      ],
      "metadata": {
        "id": "P1tXFlCJgTHa"
      }
    },
    {
      "cell_type": "code",
      "source": [
        "# Inference\n",
        "yc_pred = VGG_model.predict(val_dataset)\n",
        "print('Prediction shape (probability distribution):', yc_pred.shape)"
      ],
      "metadata": {
        "colab": {
          "base_uri": "https://localhost:8080/"
        },
        "outputId": "55862150-4e66-4e40-9db5-59ac45f7c163",
        "id": "Mo0aaK-rgTHb"
      },
      "execution_count": null,
      "outputs": [
        {
          "output_type": "stream",
          "name": "stdout",
          "text": [
            "6/6 [==============================] - 3s 556ms/step\n",
            "Prediction shape (probability distribution): (735, 5)\n"
          ]
        }
      ]
    },
    {
      "cell_type": "code",
      "source": [
        "# Selection of the highest-probability class for each test sample\n",
        "y_pred = np.argmax(yc_pred, axis=1)"
      ],
      "metadata": {
        "id": "n7fwN6jngTHb"
      },
      "execution_count": null,
      "outputs": []
    },
    {
      "cell_type": "code",
      "source": [
        "# Retrieving the ground truth classes\n",
        "yc_test = np.concatenate([y for _, y in val_dataset], axis=0)"
      ],
      "metadata": {
        "id": "C03RvTT3gTHb"
      },
      "execution_count": null,
      "outputs": []
    },
    {
      "cell_type": "code",
      "source": [
        "y_test = np.argmax(yc_test, axis=1)"
      ],
      "metadata": {
        "id": "HHczxfDVgTHb"
      },
      "execution_count": null,
      "outputs": []
    },
    {
      "cell_type": "code",
      "source": [
        "accuracy_score(y_test, y_pred)"
      ],
      "metadata": {
        "colab": {
          "base_uri": "https://localhost:8080/"
        },
        "outputId": "121ae8a3-e403-4395-8c15-ee400d31c058",
        "id": "fZqSnRKFgTHb"
      },
      "execution_count": null,
      "outputs": [
        {
          "output_type": "execute_result",
          "data": {
            "text/plain": [
              "0.6571428571428571"
            ]
          },
          "metadata": {},
          "execution_count": 49
        }
      ]
    },
    {
      "cell_type": "code",
      "source": [
        "# Classification report\n",
        "print('Classification report:')\n",
        "print(classification_report(y_test, y_pred))"
      ],
      "metadata": {
        "colab": {
          "base_uri": "https://localhost:8080/"
        },
        "outputId": "82b4ce49-2720-4084-d108-2530c6cbb2ee",
        "id": "bnDqdKBLgTHd"
      },
      "execution_count": null,
      "outputs": [
        {
          "output_type": "stream",
          "name": "stdout",
          "text": [
            "Classification report:\n",
            "              precision    recall  f1-score   support\n",
            "\n",
            "           0       0.77      0.72      0.74       127\n",
            "           1       0.72      0.82      0.77       180\n",
            "           2       0.54      0.66      0.59       128\n",
            "           3       0.61      0.56      0.59       140\n",
            "           4       0.64      0.51      0.57       160\n",
            "\n",
            "    accuracy                           0.66       735\n",
            "   macro avg       0.66      0.65      0.65       735\n",
            "weighted avg       0.66      0.66      0.65       735\n",
            "\n"
          ]
        }
      ]
    },
    {
      "cell_type": "code",
      "source": [
        "# Confusion matrix\n",
        "print('Confusion matrix:')\n",
        "cm = confusion_matrix(y_test, y_pred)\n",
        "plt.imshow(cm, cmap=plt.cm.Blues)\n",
        "plt.xlabel('Predicted class')\n",
        "plt.ylabel('Ground truth class')"
      ],
      "metadata": {
        "colab": {
          "base_uri": "https://localhost:8080/",
          "height": 483
        },
        "outputId": "b88c418d-9095-45d5-bb2e-fffbef2fb1af",
        "id": "FzP6hycxgTHd"
      },
      "execution_count": null,
      "outputs": [
        {
          "output_type": "stream",
          "name": "stdout",
          "text": [
            "Confusion matrix:\n"
          ]
        },
        {
          "output_type": "execute_result",
          "data": {
            "text/plain": [
              "Text(0, 0.5, 'Ground truth class')"
            ]
          },
          "metadata": {},
          "execution_count": 51
        },
        {
          "output_type": "display_data",
          "data": {
            "text/plain": [
              "<Figure size 640x480 with 1 Axes>"
            ],
            "image/png": "[encoded data removed]"
          },
          "metadata": {}
        }
      ]
    },
    {
      "cell_type": "code",
      "source": [
        "keras.utils.plot_model(VGG_model)"
      ],
      "metadata": {
        "colab": {
          "base_uri": "https://localhost:8080/",
          "height": 564
        },
        "outputId": "96ec96cc-854f-40f1-93c0-e5259aaec042",
        "id": "Pdj8gZr-gTHd"
      },
      "execution_count": null,
      "outputs": [
        {
          "output_type": "execute_result",
          "data": {
            "image/png": "[encoded data removed]",
            "text/plain": [
              "<IPython.core.display.Image object>"
            ]
          },
          "metadata": {},
          "execution_count": 52
        }
      ]
    }
  ],
  "metadata": {
    "accelerator": "GPU",
    "colab": {
      "provenance": [],
      "include_colab_link": true
    },
    "kernelspec": {
      "display_name": "Python 3",
      "name": "python3"
    },
    "language_info": {
      "name": "python"
    }
  },
  "nbformat": 4,
  "nbformat_minor": 0
}